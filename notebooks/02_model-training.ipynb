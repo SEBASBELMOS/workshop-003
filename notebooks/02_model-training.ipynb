{
 "cells": [
  {
   "cell_type": "markdown",
   "metadata": {},
   "source": [
    "## **WORKSHOP 003 - NOTEBOOK #2: Model Selection and Training**"
   ]
  },
  {
   "cell_type": "markdown",
   "metadata": {},
   "source": [
    "### **Setting Environment**"
   ]
  },
  {
   "cell_type": "code",
   "execution_count": 1,
   "metadata": {},
   "outputs": [
    {
     "name": "stdout",
     "output_type": "stream",
     "text": [
      "d:\\U\\FIFTH SEMESTER\\ETL\\workshop-003\\notebooks\n",
      "d:\\U\\FIFTH SEMESTER\\ETL\\workshop-003\n"
     ]
    }
   ],
   "source": [
    "import os \n",
    "print(os.getcwd())\n",
    "\n",
    "try:\n",
    "    os.chdir(\"../../workshop-003\")\n",
    "\n",
    "except FileNotFoundError:\n",
    "    print(\"\"\"\n",
    "        FileNotFoundError - The directory may not exist or you might not be in the specified path.\n",
    "        If this has already worked, do not run this block again, as the current directory is already set to workshop-003.\n",
    "        \"\"\")\n",
    "    \n",
    "print(os.getcwd())"
   ]
  },
  {
   "cell_type": "markdown",
   "metadata": {},
   "source": [
    "### **Importing modules and libraries**"
   ]
  },
  {
   "cell_type": "code",
   "execution_count": 2,
   "metadata": {},
   "outputs": [],
   "source": [
    "import pandas as pd\n",
    "\n",
    "from sklearn.ensemble import RandomForestRegressor, GradientBoostingRegressor\n",
    "from sklearn.model_selection import train_test_split\n",
    "from sklearn.linear_model import LinearRegression\n",
    "\n",
    "from sklearn.metrics import mean_squared_error, r2_score\n",
    "import joblib"
   ]
  },
  {
   "cell_type": "markdown",
   "metadata": {},
   "source": [
    "### **Read Data**"
   ]
  },
  {
   "cell_type": "code",
   "execution_count": 4,
   "metadata": {},
   "outputs": [
    {
     "data": {
      "text/html": [
       "<div>\n",
       "<style scoped>\n",
       "    .dataframe tbody tr th:only-of-type {\n",
       "        vertical-align: middle;\n",
       "    }\n",
       "\n",
       "    .dataframe tbody tr th {\n",
       "        vertical-align: top;\n",
       "    }\n",
       "\n",
       "    .dataframe thead th {\n",
       "        text-align: right;\n",
       "    }\n",
       "</style>\n",
       "<table border=\"1\" class=\"dataframe\">\n",
       "  <thead>\n",
       "    <tr style=\"text-align: right;\">\n",
       "      <th></th>\n",
       "      <th>country</th>\n",
       "      <th>continent</th>\n",
       "      <th>year</th>\n",
       "      <th>gdp_per_capita</th>\n",
       "      <th>health_life_expectancy</th>\n",
       "      <th>social_support</th>\n",
       "      <th>freedom</th>\n",
       "      <th>government_corruption</th>\n",
       "      <th>generosity</th>\n",
       "      <th>happiness_rank</th>\n",
       "      <th>happiness_score</th>\n",
       "    </tr>\n",
       "  </thead>\n",
       "  <tbody>\n",
       "    <tr>\n",
       "      <th>0</th>\n",
       "      <td>Switzerland</td>\n",
       "      <td>Europe</td>\n",
       "      <td>2015</td>\n",
       "      <td>1.39651</td>\n",
       "      <td>0.94143</td>\n",
       "      <td>1.34951</td>\n",
       "      <td>0.66557</td>\n",
       "      <td>0.41978</td>\n",
       "      <td>0.29678</td>\n",
       "      <td>1</td>\n",
       "      <td>7.587</td>\n",
       "    </tr>\n",
       "    <tr>\n",
       "      <th>1</th>\n",
       "      <td>Iceland</td>\n",
       "      <td>Europe</td>\n",
       "      <td>2015</td>\n",
       "      <td>1.30232</td>\n",
       "      <td>0.94784</td>\n",
       "      <td>1.40223</td>\n",
       "      <td>0.62877</td>\n",
       "      <td>0.14145</td>\n",
       "      <td>0.43630</td>\n",
       "      <td>2</td>\n",
       "      <td>7.561</td>\n",
       "    </tr>\n",
       "    <tr>\n",
       "      <th>2</th>\n",
       "      <td>Denmark</td>\n",
       "      <td>Europe</td>\n",
       "      <td>2015</td>\n",
       "      <td>1.32548</td>\n",
       "      <td>0.87464</td>\n",
       "      <td>1.36058</td>\n",
       "      <td>0.64938</td>\n",
       "      <td>0.48357</td>\n",
       "      <td>0.34139</td>\n",
       "      <td>3</td>\n",
       "      <td>7.527</td>\n",
       "    </tr>\n",
       "    <tr>\n",
       "      <th>3</th>\n",
       "      <td>Norway</td>\n",
       "      <td>Europe</td>\n",
       "      <td>2015</td>\n",
       "      <td>1.45900</td>\n",
       "      <td>0.88521</td>\n",
       "      <td>1.33095</td>\n",
       "      <td>0.66973</td>\n",
       "      <td>0.36503</td>\n",
       "      <td>0.34699</td>\n",
       "      <td>4</td>\n",
       "      <td>7.522</td>\n",
       "    </tr>\n",
       "    <tr>\n",
       "      <th>4</th>\n",
       "      <td>Canada</td>\n",
       "      <td>North America</td>\n",
       "      <td>2015</td>\n",
       "      <td>1.32629</td>\n",
       "      <td>0.90563</td>\n",
       "      <td>1.32261</td>\n",
       "      <td>0.63297</td>\n",
       "      <td>0.32957</td>\n",
       "      <td>0.45811</td>\n",
       "      <td>5</td>\n",
       "      <td>7.427</td>\n",
       "    </tr>\n",
       "  </tbody>\n",
       "</table>\n",
       "</div>"
      ],
      "text/plain": [
       "       country      continent  year  gdp_per_capita  health_life_expectancy  \\\n",
       "0  Switzerland         Europe  2015         1.39651                 0.94143   \n",
       "1      Iceland         Europe  2015         1.30232                 0.94784   \n",
       "2      Denmark         Europe  2015         1.32548                 0.87464   \n",
       "3       Norway         Europe  2015         1.45900                 0.88521   \n",
       "4       Canada  North America  2015         1.32629                 0.90563   \n",
       "\n",
       "   social_support  freedom  government_corruption  generosity  happiness_rank  \\\n",
       "0         1.34951  0.66557                0.41978     0.29678               1   \n",
       "1         1.40223  0.62877                0.14145     0.43630               2   \n",
       "2         1.36058  0.64938                0.48357     0.34139               3   \n",
       "3         1.33095  0.66973                0.36503     0.34699               4   \n",
       "4         1.32261  0.63297                0.32957     0.45811               5   \n",
       "\n",
       "   happiness_score  \n",
       "0            7.587  \n",
       "1            7.561  \n",
       "2            7.527  \n",
       "3            7.522  \n",
       "4            7.427  "
      ]
     },
     "execution_count": 4,
     "metadata": {},
     "output_type": "execute_result"
    }
   ],
   "source": [
    "df = pd.read_csv(\"./data/processed/world_happiness_report.csv\")\n",
    "\n",
    "df.head()"
   ]
  },
  {
   "cell_type": "markdown",
   "metadata": {},
   "source": [
    "### **Data Preprocessing**"
   ]
  },
  {
   "cell_type": "markdown",
   "metadata": {},
   "source": [
    "#### **Dummy Variables**"
   ]
  },
  {
   "cell_type": "code",
   "execution_count": 5,
   "metadata": {},
   "outputs": [],
   "source": [
    "def create_dummy_vars(df):\n",
    "    df = pd.get_dummies(df, columns=[\"continent\"])\n",
    "    \n",
    "    new_columns = {\n",
    "        \"continent_North America\": \"continent_North_America\",\n",
    "        \"continent_Central America\": \"continent_Central_America\",\n",
    "        \"continent_South America\": \"continent_South_America\"\n",
    "    }\n",
    "\n",
    "    df = df.rename(columns=new_columns)\n",
    "    \n",
    "    return df"
   ]
  },
  {
   "cell_type": "code",
   "execution_count": 6,
   "metadata": {},
   "outputs": [],
   "source": [
    "df = create_dummy_vars(df)"
   ]
  },
  {
   "cell_type": "markdown",
   "metadata": {},
   "source": [
    "#### **Splitting**"
   ]
  },
  {
   "cell_type": "code",
   "execution_count": 7,
   "metadata": {},
   "outputs": [],
   "source": [
    "X = df.drop([\"happiness_score\", \"happiness_rank\", \"country\"], axis = 1)\n",
    "y = df[\"happiness_score\"]\n",
    "\n",
    "X_train, X_test, y_train, y_test = train_test_split(X, y, test_size=0.3, random_state=200)"
   ]
  },
  {
   "cell_type": "code",
   "execution_count": 8,
   "metadata": {},
   "outputs": [
    {
     "name": "stdout",
     "output_type": "stream",
     "text": [
      "Test data shape:  (235, 15)\n",
      "Train data shape:  (547, 15)\n"
     ]
    }
   ],
   "source": [
    "print(\"Test data shape: \", X_test.shape)\n",
    "print(\"Train data shape: \", X_train.shape)"
   ]
  },
  {
   "cell_type": "code",
   "execution_count": 9,
   "metadata": {},
   "outputs": [
    {
     "data": {
      "text/plain": [
       "Index(['year', 'gdp_per_capita', 'health_life_expectancy', 'social_support',\n",
       "       'freedom', 'government_corruption', 'generosity', 'continent_Africa',\n",
       "       'continent_America', 'continent_Asia', 'continent_Central_America',\n",
       "       'continent_Europe', 'continent_North_America', 'continent_Oceania',\n",
       "       'continent_South_America'],\n",
       "      dtype='object')"
      ]
     },
     "execution_count": 9,
     "metadata": {},
     "output_type": "execute_result"
    }
   ],
   "source": [
    "X_test.columns"
   ]
  },
  {
   "cell_type": "markdown",
   "metadata": {},
   "source": [
    "### **Model Selection and Training**"
   ]
  },
  {
   "cell_type": "markdown",
   "metadata": {},
   "source": [
    "#### **Model Selection: _Linear Regression_**"
   ]
  },
  {
   "cell_type": "code",
   "execution_count": 12,
   "metadata": {},
   "outputs": [],
   "source": [
    "lr_model = LinearRegression()\n",
    "lr_model.fit(X_train, y_train)\n",
    "\n",
    "y_pred_lr = lr_model.predict(X_test)\n",
    "\n",
    "mse_lr = mean_squared_error(y_test, y_pred_lr)\n",
    "r2_lr = r2_score(y_test, y_pred_lr)"
   ]
  },
  {
   "cell_type": "code",
   "execution_count": 18,
   "metadata": {},
   "outputs": [
    {
     "name": "stdout",
     "output_type": "stream",
     "text": [
      "Linear Regression Model Results: \n",
      "\n",
      "Mean Squared Error (MSE) = 0.21031583876976218\n",
      "Coefficient of determination (R^2) = 0.8337305795707146\n"
     ]
    }
   ],
   "source": [
    "print(\"Linear Regression Model Results: \\n\")\n",
    "print(\"Mean Squared Error (MSE) =\", mse_lr)\n",
    "print(\"Coefficient of determination (R^2) =\", r2_lr)"
   ]
  },
  {
   "cell_type": "markdown",
   "metadata": {},
   "source": [
    "#### **Model Selection: _Random Forest Regressor_**"
   ]
  },
  {
   "cell_type": "code",
   "execution_count": 19,
   "metadata": {},
   "outputs": [],
   "source": [
    "rf_model = RandomForestRegressor(n_estimators=50, random_state=200)\n",
    "rf_model.fit(X_train, y_train)\n",
    "\n",
    "y_pred_rf = rf_model.predict(X_test)\n",
    "\n",
    "mse_rf = mean_squared_error(y_test, y_pred_rf)\n",
    "r2_rf = r2_score(y_test, y_pred_rf)"
   ]
  },
  {
   "cell_type": "code",
   "execution_count": 20,
   "metadata": {},
   "outputs": [
    {
     "name": "stdout",
     "output_type": "stream",
     "text": [
      "Random Forest Regression Model Results: \n",
      "\n",
      "Mean Squared Error (MSE) = 0.17550951900650344\n",
      "Coefficient of determination (R^2) = 0.8612474163822723\n"
     ]
    }
   ],
   "source": [
    "print(\"Random Forest Regression Model Results: \\n\")\n",
    "print(\"Mean Squared Error (MSE) =\", mse_rf)\n",
    "print(\"Coefficient of determination (R^2) =\", r2_rf)"
   ]
  },
  {
   "cell_type": "markdown",
   "metadata": {},
   "source": [
    "#### **Model Selection: _Alternative Random Forest Regressor_**"
   ]
  },
  {
   "cell_type": "markdown",
   "metadata": {},
   "source": [
    "As an alternative approach, I will train another Random Forest Regressor with different hyperparameters to explore it's performance."
   ]
  },
  {
   "cell_type": "code",
   "execution_count": 22,
   "metadata": {},
   "outputs": [],
   "source": [
    "rf_model_alt = RandomForestRegressor(n_estimators=100, random_state=0)\n",
    "rf_model_alt.fit(X_train, y_train)\n",
    "\n",
    "y_pred_alt_rf = rf_model_alt.predict(X_test)\n",
    "\n",
    "mse_alt_rf = mean_squared_error(y_test, y_pred_alt_rf)\n",
    "r2_alt_rf = r2_score(y_test, y_pred_alt_rf)"
   ]
  },
  {
   "cell_type": "code",
   "execution_count": 23,
   "metadata": {},
   "outputs": [
    {
     "name": "stdout",
     "output_type": "stream",
     "text": [
      "Alternative Random Forest Regression Model Results: \n",
      "\n",
      "Mean Squared Error (MSE) = 0.17210940183540657\n",
      "Coefficient of determination (R^2) = 0.8639354474632258\n"
     ]
    }
   ],
   "source": [
    "print(\"Alternative Random Forest Regression Model Results: \\n\")\n",
    "print(\"Mean Squared Error (MSE) =\", mse_alt_rf)\n",
    "print(\"Coefficient of determination (R^2) =\", r2_alt_rf)"
   ]
  },
  {
   "cell_type": "markdown",
   "metadata": {},
   "source": [
    "#### **Model Selection: _Gradient Boosting Regressor_**"
   ]
  },
  {
   "cell_type": "code",
   "execution_count": 24,
   "metadata": {},
   "outputs": [],
   "source": [
    "gb_model = GradientBoostingRegressor()\n",
    "gb_model.fit(X_train, y_train)\n",
    "\n",
    "y_pred_gb = gb_model.predict(X_test)\n",
    "\n",
    "mse_gb = mean_squared_error(y_test, y_pred_gb)\n",
    "r2_gb = r2_score(y_test, y_pred_gb)"
   ]
  },
  {
   "cell_type": "code",
   "execution_count": 26,
   "metadata": {},
   "outputs": [
    {
     "name": "stdout",
     "output_type": "stream",
     "text": [
      "Gradient Boosting Regression Model Results: \n",
      "\n",
      "Mean Squared Error (MSE) = 0.17407216073657017\n",
      "Coefficient of determination (R^2) = 0.8623837488995425\n"
     ]
    }
   ],
   "source": [
    "print(\"Gradient Boosting Regression Model Results: \\n\")\n",
    "print(\"Mean Squared Error (MSE) =\", mse_gb)\n",
    "print(\"Coefficient of determination (R^2) =\", r2_gb)"
   ]
  },
  {
   "cell_type": "markdown",
   "metadata": {},
   "source": [
    "### **Save PKL File**"
   ]
  },
  {
   "cell_type": "code",
   "execution_count": 27,
   "metadata": {},
   "outputs": [
    {
     "name": "stdout",
     "output_type": "stream",
     "text": [
      "Alternative Random Forest model saved to ./model/alternative_rf_model.pkl\n"
     ]
    }
   ],
   "source": [
    "joblib.dump(rf_model_alt, \"./model/alternative_rf_model.pkl\")\n",
    "print(\"Alternative Random Forest model saved to ./model/alternative_rf_model.pkl\")"
   ]
  },
  {
   "cell_type": "markdown",
   "metadata": {},
   "source": [
    "### **Conclusions**"
   ]
  },
  {
   "cell_type": "markdown",
   "metadata": {},
   "source": [
    "- Both ensemble models, the Random Forest Regressor and the Alternative Random Forest Regressor, outperform the Linear Regression model, suggesting the presence of non-linear relationships within the data.\n",
    "- The Linear Regression model produces a Mean Squared Error (MSE) of 0.2103 and a Coefficient of Determination (R²) of 0.8337, explaining approximately 83.37% of the variance in happiness scores, which indicates a reasonable but improvable fit.\n",
    "- The Random Forest Regressor, with an MSE of 0.1755 and an R² of 0.8612, improves upon the Linear Regression, capturing about 86.12% of the variance, demonstrating the benefit of ensemble techniques.\n",
    "- The Alternative Random Forest Regressor, configured with 100 estimators and a random state of 0, achieves the best performance with an MSE of 0.1721 and an R² of 0.8639, explaining approximately 86.39% of the variance. This slight improvement over the original Random Forest Regressor highlights the impact of increased estimators on model accuracy.\n",
    "- Given its superior performance, the Alternative Random Forest Regressor will be selected and saved for future predictions."
   ]
  }
 ],
 "metadata": {
  "kernelspec": {
   "display_name": "workshop-3-62wr86AF-py3.13",
   "language": "python",
   "name": "python3"
  },
  "language_info": {
   "codemirror_mode": {
    "name": "ipython",
    "version": 3
   },
   "file_extension": ".py",
   "mimetype": "text/x-python",
   "name": "python",
   "nbconvert_exporter": "python",
   "pygments_lexer": "ipython3",
   "version": "3.13.1"
  }
 },
 "nbformat": 4,
 "nbformat_minor": 2
}
